{
 "cells": [
  {
   "cell_type": "markdown",
   "metadata": {},
   "source": [
    "# Beating the IQ Tester"
   ]
  },
  {
   "cell_type": "markdown",
   "metadata": {},
   "source": [
    "## TODO:\n",
    "* extend invalid move msg with exact error\n",
    "* find way to list all next moves"
   ]
  },
  {
   "cell_type": "code",
   "execution_count": 1,
   "metadata": {},
   "outputs": [],
   "source": [
    "# TODO : find way to make triangle with variable size"
   ]
  },
  {
   "cell_type": "code",
   "execution_count": 1,
   "metadata": {},
   "outputs": [],
   "source": [
    "import numpy as np\n",
    "\n",
    "grid = [\n",
    "       [0, 0, 0, 0, 1, 0, 0, 0, 0],\n",
    "       [0, 0, 0, 1, 0, 1, 0, 0, 0],\n",
    "       [0, 0, 1, 0, 1, 0, 1, 0, 0],\n",
    "       [0, 1, 0, 1, 0, 1, 0, 1, 0],\n",
    "       [1, 0, 1, 0, 1, 0, 1, 0, 1]]\n",
    "grid = np.array(grid)"
   ]
  },
  {
   "cell_type": "code",
   "execution_count": 3,
   "metadata": {},
   "outputs": [
    {
     "data": {
      "text/plain": [
       "1"
      ]
     },
     "execution_count": 3,
     "metadata": {},
     "output_type": "execute_result"
    }
   ],
   "source": [
    "grid[(0,4)]"
   ]
  },
  {
   "cell_type": "code",
   "execution_count": 7,
   "metadata": {},
   "outputs": [
    {
     "data": {
      "text/plain": [
       "(array([0, 1, 1, 2, 2, 2, 3, 3, 3, 3, 4, 4, 4, 4, 4]),\n",
       " array([4, 3, 5, 2, 4, 6, 1, 3, 5, 7, 0, 2, 4, 6, 8]))"
      ]
     },
     "execution_count": 7,
     "metadata": {},
     "output_type": "execute_result"
    }
   ],
   "source": [
    "np.where(grid > 0)"
   ]
  },
  {
   "cell_type": "code",
   "execution_count": 14,
   "metadata": {},
   "outputs": [
    {
     "data": {
      "text/plain": [
       "<matplotlib.collections.PathCollection at 0x7f491d64f110>"
      ]
     },
     "execution_count": 14,
     "metadata": {},
     "output_type": "execute_result"
    },
    {
     "data": {
      "image/png": "[encoded data removed]",
      "text/plain": [
       "<Figure size 432x288 with 1 Axes>"
      ]
     },
     "metadata": {
      "needs_background": "light"
     },
     "output_type": "display_data"
    }
   ],
   "source": [
    "import matplotlib.pyplot as plt\n",
    "plt.scatter(8 - np.where(grid > 0)[1], 5 - np.where(grid > 0)[0])"
   ]
  },
  {
   "cell_type": "code",
   "execution_count": 15,
   "metadata": {},
   "outputs": [],
   "source": [
    "# TODO: Function that calculates all possible moves given a certain configuration\n",
    "# TODO: find suitable way for best sequence of moves"
   ]
  },
  {
   "cell_type": "markdown",
   "metadata": {},
   "source": [
    "## Move Class\n",
    "\n",
    "This struct describes a move on the board.\n",
    "Each move is described by :\n",
    "+ pin : the pin that will be moved\n",
    "+ pin_dst: destination of the pin "
   ]
  },
  {
   "cell_type": "code",
   "execution_count": 42,
   "metadata": {},
   "outputs": [],
   "source": [
    "class Move():\n",
    "    translate_move = {(1,1):(0,4), \n",
    "                      (2,1):(1,3), (2,2):(1,5),\n",
    "                      (3,1):(2,2), (3,2):(2,4), (3,3):(2,6),\n",
    "                      (4,1):(3,1), (4,2):(3,3), (4,3):(3,5), (4,4):(3,7),\n",
    "                      (5,1):(4,0), (5,2):(4,2), (5,3):(4,4), (5,4):(4,6), (5,5):(4,8)}\n",
    "    def __init__(self, pin_src, pin_dst):\n",
    "        self.pin_src = self.translate_move[pin_src]\n",
    "        if pin_src is not None:\n",
    "            self.pin_src = self.translate_move[pin_src]\n",
    "        else:\n",
    "            self.pin_src = pin_src\n",
    "        if pin_dst is not None:\n",
    "            self.pin_dst = self.translate_move[pin_dst]\n",
    "        else: \n",
    "            self.pin_dst = pin_dst\n",
    "        \n"
   ]
  },
  {
   "cell_type": "markdown",
   "metadata": {},
   "source": [
    "## GameBoard Class\n",
    "\n",
    "This class describes the board of the game.\n",
    "\n",
    "The class shoud have the following methods and members:\n",
    "+ plot() : plots the game board\n",
    "+ config : current configuration of the board (position of the pins)\n",
    "+ next_moves(): returns a list with all the possible next moves\n"
   ]
  },
  {
   "cell_type": "code",
   "execution_count": 68,
   "metadata": {},
   "outputs": [],
   "source": [
    "import numpy as np\n",
    "import matplotlib.pyplot as plt\n",
    "\n",
    "class GameBoard():\n",
    "    mask =np.array([[0, 0, 0, 0, 1, 0, 0, 0, 0],\n",
    "           [0, 0, 0, 1, 0, 1, 0, 0, 0],\n",
    "           [0, 0, 1, 0, 1, 0, 1, 0, 0],\n",
    "           [0, 1, 0, 1, 0, 1, 0, 1, 0],\n",
    "           [1, 0, 1, 0, 1, 0, 1, 0, 1]])\n",
    "    def __init__(self):\n",
    "        self.grid =[[0, 0, 0, 0, 1, 0, 0, 0, 0],\n",
    "                   [0, 0, 0, 1, 0, 1, 0, 0, 0],\n",
    "                   [0, 0, 1, 0, 1, 0, 1, 0, 0],\n",
    "                   [0, 1, 0, 1, 0, 1, 0, 1, 0],\n",
    "                   [1, 0, 1, 0, 1, 0, 1, 0, 1]]\n",
    "        self.grid = np.array(self.grid)\n",
    "    \n",
    "    def show_board(self):\n",
    "        \"\"\"\n",
    "        plots the game board as a scatter plot\n",
    "        \"\"\"\n",
    "        plt.scatter( np.where(self.grid > 0)[1], 5 - np.where(self.grid > 0)[0], s=200, c='g')\n",
    "        plt.xlim([-1, 9])\n",
    "        plt.ylim([0, 6])\n",
    "        plt.axis('off')\n",
    "        \n",
    "    def remaining_pins(self):\n",
    "        \"\"\"\n",
    "        returns the number of remaining pins\n",
    "        \"\"\"\n",
    "        return np.sum(self.grid)\n",
    "    \n",
    "    def pin_in_grid(self, pin):\n",
    "        \"\"\"\n",
    "        check that pin has valid poision\n",
    "        \"\"\"\n",
    "        if pin is not None:\n",
    "            # check if source of pin are in the grid\n",
    "            if (any((v < 0) for v in pin)):\n",
    "                return False\n",
    "            if (pin[0] > 4 or pin[1] > 8):\n",
    "                return False\n",
    "            \n",
    "            # check if destination are in valid positions\n",
    "            if (self.mask[pin] == 0):\n",
    "                return False\n",
    "        return True\n",
    "        \n",
    "    def valid_move(self, move):\n",
    "        \"\"\"\n",
    "        checks if a move is valid\n",
    "        \"\"\"\n",
    "        # check that the source has a valid position\n",
    "        if self.pin_in_grid(move.pin_src) is not True:\n",
    "            return False\n",
    "        \n",
    "        # check that the destination has a valid position\n",
    "        if self.pin_in_grid(move.pin_dst) is not True:\n",
    "            return False\n",
    "            \n",
    "        \n",
    "        # the first move must have None as destination\n",
    "        if self.remaining_pins() == 15:\n",
    "            if (move.pin_dst == None):\n",
    "                return True\n",
    "            else:\n",
    "                return False\n",
    "            \n",
    "        # the distance covered by the move must be exactly 4\n",
    "        if not self.move_dist(move) == 4:\n",
    "            return False\n",
    "                \n",
    "        # check the destination is empty and a pin will be removed\n",
    "        if self.grid[move.pin_dst] == 0 and self.grid[self.find_middle_pin(move)] == 1:\n",
    "            return True\n",
    "        return False\n",
    "    def do_move(self, move):\n",
    "        \"\"\"\n",
    "        excecutes a move on game board\n",
    "        \"\"\"\n",
    "        if not self.valid_move(move):\n",
    "            print(\"INVALID MOVE!\")\n",
    "            return\n",
    "        pin_src = move.pin_src\n",
    "        pin_dst = move.pin_dst\n",
    "        \n",
    "        self.grid[pin_src] = 0\n",
    "        if pin_dst is not None:\n",
    "            self.grid[pin_dst] = 1\n",
    "            self.grid[self.find_middle_pin(move)] = 0\n",
    "    \n",
    "    def next_moves(self):\n",
    "        \"\"\"\n",
    "        lists all the possible next moves for all the pins\n",
    "        \"\"\"\n",
    "        next_moves = []\n",
    "        pin_idx = np.where(self.grid == 1)\n",
    "        for i in range(len(pin_idx[0])):\n",
    "            next_i = [(pin_idx[0][i],pin_idx[1][i])]\n",
    "            next_i.extend(self.next_dst((pin_idx[0][i],pin_idx[1][i])))\n",
    "            next_moves.append(next_i)\n",
    "            \n",
    "        return next_moves\n",
    "    \n",
    "    def next_dst(self, pin_src):\n",
    "        \"\"\" \n",
    "        returns a list with all the possible destination for a given source\n",
    "        \"\"\"\n",
    "        possible_dsts = []\n",
    "        temp_dst = []\n",
    "        pin_x = pin_src[0]\n",
    "        pin_y = pin_src[1]\n",
    "        \n",
    "        # if first move : None is the only possible destination\n",
    "        if self.remaining_pins() == 15:\n",
    "            possible_dsts.append(None)\n",
    "            \n",
    "       \n",
    "        # if not first move\n",
    "        temp_dst.append((pin_x + 2, pin_y + 2))\n",
    "        temp_dst.append((pin_x + 2, pin_y - 2))\n",
    "        temp_dst.append((pin_x - 2, pin_y + 2))\n",
    "        temp_dst.append((pin_x - 2, pin_y - 2))\n",
    "        temp_dst.append((pin_x, pin_y + 4))\n",
    "        temp_dst.append((pin_x, pin_y - 4))\n",
    "        temp_dst.append((pin_x + 4, pin_y))\n",
    "        temp_dst.append((pin_x - 4, pin_y))\n",
    "        \n",
    "        for possible_dst in temp_dst:\n",
    "            if self.pin_in_grid(possible_dst) and self.grid[possible_dst] == 0:\n",
    "                possible_dsts.append(possible_dst)\n",
    "            \n",
    "        return possible_dsts \n",
    "        \n",
    "    \n",
    "    def find_middle_pin(self,move):\n",
    "        \"\"\"\n",
    "        returns the pin between the source and destination of a move \n",
    "        \"\"\"\n",
    "        return ((move.pin_src[0] + move.pin_dst[0]) // 2, (move.pin_src[1] + move.pin_dst[1]) // 2) \n",
    "    def move_dist(self, move):\n",
    "        \"\"\"\n",
    "        returns the distance covered by a pin \n",
    "        \"\"\"\n",
    "        return np.abs(move.pin_src[0] - move.pin_dst[0]) + np.abs(move.pin_src[1] - move.pin_dst[1])"
   ]
  },
  {
   "cell_type": "code",
   "execution_count": 73,
   "metadata": {},
   "outputs": [
    {
     "data": {
      "text/plain": [
       "15"
      ]
     },
     "execution_count": 73,
     "metadata": {},
     "output_type": "execute_result"
    },
    {
     "data": {
      "image/png": "[encoded data removed]",
      "text/plain": [
       "<Figure size 432x288 with 1 Axes>"
      ]
     },
     "metadata": {
      "needs_background": "light"
     },
     "output_type": "display_data"
    }
   ],
   "source": [
    "game = GameBoard()\n",
    "game.show_board()\n",
    "game.remaining_pins()\n",
    "\n"
   ]
  },
  {
   "cell_type": "code",
   "execution_count": 72,
   "metadata": {},
   "outputs": [
    {
     "data": {
      "text/plain": [
       "[[(1, 3)],\n",
       " [(1, 5)],\n",
       " [(2, 2), (0, 4)],\n",
       " [(2, 4)],\n",
       " [(2, 6), (0, 4)],\n",
       " [(3, 1)],\n",
       " [(3, 3)],\n",
       " [(3, 5)],\n",
       " [(3, 7)],\n",
       " [(4, 0)],\n",
       " [(4, 2)],\n",
       " [(4, 4), (0, 4)],\n",
       " [(4, 6)],\n",
       " [(4, 8)]]"
      ]
     },
     "execution_count": 72,
     "metadata": {},
     "output_type": "execute_result"
    }
   ],
   "source": [
    "#game.next_dst((1,5))\n",
    "game.next_moves()"
   ]
  },
  {
   "cell_type": "code",
   "execution_count": 74,
   "metadata": {},
   "outputs": [
    {
     "data": {
      "text/plain": [
       "14"
      ]
     },
     "execution_count": 74,
     "metadata": {},
     "output_type": "execute_result"
    },
    {
     "data": {
      "image/png": "[encoded data removed]",
      "text/plain": [
       "<Figure size 432x288 with 1 Axes>"
      ]
     },
     "metadata": {
      "needs_background": "light"
     },
     "output_type": "display_data"
    }
   ],
   "source": [
    "game.do_move(Move((1,1), None))\n",
    "game.show_board()\n",
    "game.remaining_pins()"
   ]
  },
  {
   "cell_type": "code",
   "execution_count": 78,
   "metadata": {},
   "outputs": [
    {
     "data": {
      "text/plain": [
       "11"
      ]
     },
     "execution_count": 78,
     "metadata": {},
     "output_type": "execute_result"
    },
    {
     "data": {
      "image/png": "[encoded data removed]",
      "text/plain": [
       "<Figure size 432x288 with 1 Axes>"
      ]
     },
     "metadata": {
      "needs_background": "light"
     },
     "output_type": "display_data"
    }
   ],
   "source": [
    "game.do_move(Move((4,1), (2,1)))\n",
    "game.show_board()\n",
    "game.remaining_pins()"
   ]
  },
  {
   "cell_type": "code",
   "execution_count": 79,
   "metadata": {},
   "outputs": [
    {
     "data": {
      "text/plain": [
       "[[(0, 4), (2, 6), (2, 2)],\n",
       " [(1, 3), (3, 1)],\n",
       " [(1, 5)],\n",
       " [(3, 3)],\n",
       " [(3, 5), (3, 1)],\n",
       " [(3, 7)],\n",
       " [(4, 0), (2, 2)],\n",
       " [(4, 2), (2, 4)],\n",
       " [(4, 4), (2, 6), (2, 2)],\n",
       " [(4, 6), (2, 4)],\n",
       " [(4, 8), (2, 6)]]"
      ]
     },
     "execution_count": 79,
     "metadata": {},
     "output_type": "execute_result"
    }
   ],
   "source": [
    "game.next_moves()"
   ]
  },
  {
   "cell_type": "code",
   "execution_count": 48,
   "metadata": {},
   "outputs": [
    {
     "data": {
      "text/plain": [
       "1"
      ]
     },
     "execution_count": 48,
     "metadata": {},
     "output_type": "execute_result"
    }
   ],
   "source": [
    "game.grid[(0,4)]"
   ]
  },
  {
   "cell_type": "code",
   "execution_count": 49,
   "metadata": {},
   "outputs": [
    {
     "name": "stdout",
     "output_type": "stream",
     "text": [
      "INVALID MOVE!\n"
     ]
    },
    {
     "data": {
      "text/plain": [
       "13"
      ]
     },
     "execution_count": 49,
     "metadata": {},
     "output_type": "execute_result"
    },
    {
     "data": {
      "image/png": "[encoded data removed]",
      "text/plain": [
       "<Figure size 432x288 with 1 Axes>"
      ]
     },
     "metadata": {
      "needs_background": "light"
     },
     "output_type": "display_data"
    }
   ],
   "source": [
    "game.do_move(Move((1,1), (2,1)))\n",
    "game.show_board()\n",
    "game.remaining_pins()"
   ]
  },
  {
   "cell_type": "code",
   "execution_count": null,
   "metadata": {},
   "outputs": [],
   "source": []
  }
 ],
 "metadata": {
  "kernelspec": {
   "display_name": "Python 3",
   "language": "python",
   "name": "python3"
  },
  "language_info": {
   "codemirror_mode": {
    "name": "ipython",
    "version": 3
   },
   "file_extension": ".py",
   "mimetype": "text/x-python",
   "name": "python",
   "nbconvert_exporter": "python",
   "pygments_lexer": "ipython3",
   "version": "3.7.6"
  }
 },
 "nbformat": 4,
 "nbformat_minor": 4
}
