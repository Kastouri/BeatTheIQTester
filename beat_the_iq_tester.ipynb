{
 "cells": [
  {
   "cell_type": "markdown",
   "metadata": {},
   "source": [
    "# Beating the IQ Tester"
   ]
  },
  {
   "cell_type": "code",
   "execution_count": 1,
   "metadata": {},
   "outputs": [],
   "source": [
    "# TODO : find way to make triangle with variable size"
   ]
  },
  {
   "cell_type": "code",
   "execution_count": 1,
   "metadata": {},
   "outputs": [],
   "source": [
    "import numpy as np\n",
    "\n",
    "grid = [\n",
    "       [0, 0, 0, 0, 1, 0, 0, 0, 0],\n",
    "       [0, 0, 0, 1, 0, 1, 0, 0, 0],\n",
    "       [0, 0, 1, 0, 1, 0, 1, 0, 0],\n",
    "       [0, 1, 0, 1, 0, 1, 0, 1, 0],\n",
    "       [1, 0, 1, 0, 1, 0, 1, 0, 1]]\n",
    "grid = np.array(grid)"
   ]
  },
  {
   "cell_type": "code",
   "execution_count": 3,
   "metadata": {},
   "outputs": [
    {
     "data": {
      "text/plain": [
       "1"
      ]
     },
     "execution_count": 3,
     "metadata": {},
     "output_type": "execute_result"
    }
   ],
   "source": [
    "grid[(0,4)]"
   ]
  },
  {
   "cell_type": "code",
   "execution_count": 7,
   "metadata": {},
   "outputs": [
    {
     "data": {
      "text/plain": [
       "(array([0, 1, 1, 2, 2, 2, 3, 3, 3, 3, 4, 4, 4, 4, 4]),\n",
       " array([4, 3, 5, 2, 4, 6, 1, 3, 5, 7, 0, 2, 4, 6, 8]))"
      ]
     },
     "execution_count": 7,
     "metadata": {},
     "output_type": "execute_result"
    }
   ],
   "source": [
    "np.where(grid > 0)"
   ]
  },
  {
   "cell_type": "code",
   "execution_count": 14,
   "metadata": {},
   "outputs": [
    {
     "data": {
      "text/plain": [
       "<matplotlib.collections.PathCollection at 0x7f491d64f110>"
      ]
     },
     "execution_count": 14,
     "metadata": {},
     "output_type": "execute_result"
    },
    {
     "data": {
      "image/png": "[encoded data removed]",
      "text/plain": [
       "<Figure size 432x288 with 1 Axes>"
      ]
     },
     "metadata": {
      "needs_background": "light"
     },
     "output_type": "display_data"
    }
   ],
   "source": [
    "import matplotlib.pyplot as plt\n",
    "plt.scatter(8 - np.where(grid > 0)[1], 5 - np.where(grid > 0)[0])"
   ]
  },
  {
   "cell_type": "code",
   "execution_count": 15,
   "metadata": {},
   "outputs": [],
   "source": [
    "# TODO: Function that calculates all possible moves given a certain configuration\n",
    "# TODO: find suitable way for best sequence of moves"
   ]
  },
  {
   "cell_type": "markdown",
   "metadata": {},
   "source": [
    "## Move Class\n",
    "\n",
    "This struct describes a move on the board.\n",
    "Each move is described by :\n",
    "+ pin : the pin that will be moved\n",
    "+ pin_dst: destination of the pin "
   ]
  },
  {
   "cell_type": "code",
   "execution_count": 16,
   "metadata": {},
   "outputs": [
    {
     "data": {
      "text/plain": [
       "(0, 4)"
      ]
     },
     "execution_count": 16,
     "metadata": {},
     "output_type": "execute_result"
    }
   ],
   "source": [
    "x = {(1,1) : (0,4) }\n",
    "x[(1,1)]"
   ]
  },
  {
   "cell_type": "code",
   "execution_count": 16,
   "metadata": {},
   "outputs": [],
   "source": [
    "class Move():\n",
    "    translate_move = {(1,1):(0,4), \n",
    "                      (2,1):(1,3), (2,2):(1,5),\n",
    "                      (3,1):(2,2), (3,2):(2,4), (3,3):(2,6),\n",
    "                      (4,1):(3,1), (4,2):(3,3), (4,3):(3,5), (4,4):(3,7),\n",
    "                      (5,1):(4,0), (5,2):(4,2), (5,3):(4,4), (5,4):(4,6), (5,5):(4,8)}\n",
    "    def __init__(self, pin_src, pin_dst):\n",
    "        self.pin_src = self.translate_move[pin_src]\n",
    "        if pin_dst is not None:\n",
    "            self.pin_dst = self.translate_move[pin_dst]\n",
    "        else: \n",
    "            self.pin_dst = pin_dst\n",
    "        \n"
   ]
  },
  {
   "cell_type": "markdown",
   "metadata": {},
   "source": [
    "## GameBoard Class\n",
    "\n",
    "This class describes the board of the game.\n",
    "\n",
    "The class shoud have the following methods and members:\n",
    "+ plot() : plots the game board\n",
    "+ config : current configuration of the board (position of the pins)\n",
    "+ next_moves(): returns a list with all the possible next moves\n"
   ]
  },
  {
   "cell_type": "code",
   "execution_count": 70,
   "metadata": {},
   "outputs": [],
   "source": [
    "import numpy as np\n",
    "import matplotlib.pyplot as plt\n",
    "\n",
    "class GameBoard():\n",
    "    grid =[[0, 0, 0, 0, 1, 0, 0, 0, 0],\n",
    "           [0, 0, 0, 1, 0, 1, 0, 0, 0],\n",
    "           [0, 0, 1, 0, 1, 0, 1, 0, 0],\n",
    "           [0, 1, 0, 1, 0, 1, 0, 1, 0],\n",
    "           [1, 0, 1, 0, 1, 0, 1, 0, 1]]\n",
    "    def __init__(self):\n",
    "        self.grid =[[0, 0, 0, 0, 1, 0, 0, 0, 0],\n",
    "                   [0, 0, 0, 1, 0, 1, 0, 0, 0],\n",
    "                   [0, 0, 1, 0, 1, 0, 1, 0, 0],\n",
    "                   [0, 1, 0, 1, 0, 1, 0, 1, 0],\n",
    "                   [1, 0, 1, 0, 1, 0, 1, 0, 1]]\n",
    "        self.grid = np.array(self.grid)\n",
    "    \n",
    "    def show_board(self):\n",
    "        \"\"\"\n",
    "        plots the game board as a scatter plot\n",
    "        \"\"\"\n",
    "        plt.scatter( np.where(self.grid > 0)[1], 5 - np.where(self.grid > 0)[0], s=200, c='g')\n",
    "        plt.xlim([-1, 9])\n",
    "        plt.ylim([0, 6])\n",
    "        \n",
    "    def remaining_pins(self):\n",
    "        \"\"\"\n",
    "        returns the number of remaining pins\n",
    "        \"\"\"\n",
    "        return np.sum(self.grid)\n",
    "        \n",
    "    def valid_move(self, move):\n",
    "        \"\"\"\n",
    "        checks if a move is valid\n",
    "        \"\"\"\n",
    "        # the first move\n",
    "        print(\"source : \", move.pin_src, \"=\", self.grid[move.pin_src])\n",
    "        print(\"destination : \", move.pin_dst,  \"=\", self.grid[move.pin_dst])\n",
    "        if self.remaining_pins() == 15:\n",
    "            if (move.pin_dst == None):\n",
    "                return True\n",
    "            else:\n",
    "                return False\n",
    "                \n",
    "        # not a first move\n",
    "        if self.grid[move.pin_dst] == 0 :\n",
    "            return True\n",
    "        return False\n",
    "    def do_move(self, move):\n",
    "        \"\"\"\n",
    "        excecutes a move on game board\n",
    "        \"\"\"\n",
    "        if not self.valid_move(move):\n",
    "            print(\"INVALID MOVE!\")\n",
    "            return\n",
    "        pin_src = move.pin_src\n",
    "        pin_dst = move.pin_dst\n",
    "        \n",
    "        self.grid[pin_src] = 0\n",
    "        if pin_dst is not None:\n",
    "            self.grid[pin_dst] = 1\n",
    "    \n",
    "    def next_moves(self):\n",
    "        pass"
   ]
  },
  {
   "cell_type": "code",
   "execution_count": 71,
   "metadata": {},
   "outputs": [
    {
     "data": {
      "text/plain": [
       "15"
      ]
     },
     "execution_count": 71,
     "metadata": {},
     "output_type": "execute_result"
    },
    {
     "data": {
      "image/png": "[encoded data removed]",
      "text/plain": [
       "<Figure size 432x288 with 1 Axes>"
      ]
     },
     "metadata": {
      "needs_background": "light"
     },
     "output_type": "display_data"
    }
   ],
   "source": [
    "game = GameBoard()\n",
    "game.show_board()\n",
    "game.remaining_pins()\n",
    "\n"
   ]
  },
  {
   "cell_type": "code",
   "execution_count": 72,
   "metadata": {},
   "outputs": [
    {
     "name": "stdout",
     "output_type": "stream",
     "text": [
      "source :  (0, 4) = 1\n",
      "destination :  None = [[[0 0 0 0 1 0 0 0 0]\n",
      "  [0 0 0 1 0 1 0 0 0]\n",
      "  [0 0 1 0 1 0 1 0 0]\n",
      "  [0 1 0 1 0 1 0 1 0]\n",
      "  [1 0 1 0 1 0 1 0 1]]]\n"
     ]
    },
    {
     "data": {
      "text/plain": [
       "14"
      ]
     },
     "execution_count": 72,
     "metadata": {},
     "output_type": "execute_result"
    },
    {
     "data": {
      "image/png": "[encoded data removed]",
      "text/plain": [
       "<Figure size 432x288 with 1 Axes>"
      ]
     },
     "metadata": {
      "needs_background": "light"
     },
     "output_type": "display_data"
    }
   ],
   "source": [
    "game.do_move(Move((1,1), None))\n",
    "game.show_board()\n",
    "game.remaining_pins()"
   ]
  },
  {
   "cell_type": "code",
   "execution_count": 73,
   "metadata": {},
   "outputs": [
    {
     "name": "stdout",
     "output_type": "stream",
     "text": [
      "source :  (2, 6) = 1\n",
      "destination :  (0, 4) = 0\n"
     ]
    },
    {
     "data": {
      "text/plain": [
       "14"
      ]
     },
     "execution_count": 73,
     "metadata": {},
     "output_type": "execute_result"
    },
    {
     "data": {
      "image/png": "[encoded data removed]",
      "text/plain": [
       "<Figure size 432x288 with 1 Axes>"
      ]
     },
     "metadata": {
      "needs_background": "light"
     },
     "output_type": "display_data"
    }
   ],
   "source": [
    "game.do_move(Move((3,3), (1,1)))\n",
    "game.show_board()\n",
    "game.remaining_pins()"
   ]
  },
  {
   "cell_type": "code",
   "execution_count": 74,
   "metadata": {},
   "outputs": [
    {
     "data": {
      "text/plain": [
       "1"
      ]
     },
     "execution_count": 74,
     "metadata": {},
     "output_type": "execute_result"
    }
   ],
   "source": [
    "game.grid[(0,4)]"
   ]
  },
  {
   "cell_type": "code",
   "execution_count": 75,
   "metadata": {},
   "outputs": [
    {
     "name": "stdout",
     "output_type": "stream",
     "text": [
      "source :  (0, 4) = 1\n",
      "destination :  (1, 3) = 1\n",
      "INVALID MOVE!\n"
     ]
    },
    {
     "data": {
      "text/plain": [
       "14"
      ]
     },
     "execution_count": 75,
     "metadata": {},
     "output_type": "execute_result"
    },
    {
     "data": {
      "image/png": "[encoded data removed]",
      "text/plain": [
       "<Figure size 432x288 with 1 Axes>"
      ]
     },
     "metadata": {
      "needs_background": "light"
     },
     "output_type": "display_data"
    }
   ],
   "source": [
    "game.do_move(Move((1,1), (2,1)))\n",
    "game.show_board()\n",
    "game.remaining_pins()"
   ]
  },
  {
   "cell_type": "code",
   "execution_count": null,
   "metadata": {},
   "outputs": [],
   "source": []
  }
 ],
 "metadata": {
  "kernelspec": {
   "display_name": "Python 3",
   "language": "python",
   "name": "python3"
  },
  "language_info": {
   "codemirror_mode": {
    "name": "ipython",
    "version": 3
   },
   "file_extension": ".py",
   "mimetype": "text/x-python",
   "name": "python",
   "nbconvert_exporter": "python",
   "pygments_lexer": "ipython3",
   "version": "3.7.6"
  }
 },
 "nbformat": 4,
 "nbformat_minor": 4
}
